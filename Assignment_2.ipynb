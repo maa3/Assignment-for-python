{
 "cells": [
  {
   "cell_type": "code",
   "execution_count": 11,
   "metadata": {},
   "outputs": [
    {
     "name": "stdout",
     "output_type": "stream",
     "text": [
      "Enter your English marks: 36\n",
      "Enter your Mathematicsmarks: 89\n",
      "Enter your Physics marks: 53\n",
      "Enter your Chemistry marks: 20\n",
      "Enter your Computer Science marks:11\n",
      "Your Marks In Percentage Is 41.8 %\n",
      "Your grade is E\n"
     ]
    }
   ],
   "source": [
    "#Question_1\n",
    "\n",
    "a=int(input(\"Enter your English marks: \"))\n",
    "b=int(input(\"Enter your Mathematicsmarks: \"))\n",
    "c=int(input(\"Enter your Physics marks: \"))\n",
    "d=int(input(\"Enter your Chemistry marks: \"))\n",
    "e=int(input(\"Enter your Computer Science marks:\"))\n",
    " \n",
    "f=(a+b+c+d+e)*100/500\n",
    "print(\"Your Marks In Percentage Is\",f,\"%\")\n",
    " \n",
    "if f>=80 and f<=100:\n",
    "    print(\"Your grade is A\")\n",
    "elif f>=70 and f<80:\n",
    "    print(\"Your grade is B\")\n",
    "elif f>=60 and f<70:\n",
    "    print(\"Your grade is C\")\n",
    "elif f>=50 and f<60:\n",
    "    print(\"Your grade is D\")\n",
    "elif f>=40 and f<50:\n",
    "    print(\"Your grade is E\")\n",
    "else:\n",
    "    print('You are type incorrect number')"
   ]
  },
  {
   "cell_type": "code",
   "execution_count": 2,
   "metadata": {},
   "outputs": [
    {
     "name": "stdout",
     "output_type": "stream",
     "text": [
      "enter your number: 12\n",
      "Even Number\n"
     ]
    }
   ],
   "source": [
    "# Question_2\n",
    "\n",
    "z = int(input(\"enter your number: \"))\n",
    "if z%2==0:\n",
    "    print(\"Even Number\")\n",
    "else:\n",
    "    print(\"Odd Number\")"
   ]
  },
  {
   "cell_type": "code",
   "execution_count": 3,
   "metadata": {},
   "outputs": [
    {
     "name": "stdout",
     "output_type": "stream",
     "text": [
      "9\n"
     ]
    }
   ],
   "source": [
    "#Question_3\n",
    "\n",
    "list = [10,24,31,2,16,14,7,3,7]\n",
    "print(len(list))"
   ]
  },
  {
   "cell_type": "code",
   "execution_count": 4,
   "metadata": {},
   "outputs": [
    {
     "name": "stdout",
     "output_type": "stream",
     "text": [
      "sum of list=  35\n",
      "sum of list=  59\n",
      "sum of list=  62\n",
      "sum of list=  78\n",
      "sum of list=  123\n",
      "sum of list=  131\n"
     ]
    }
   ],
   "source": [
    "#Question_4\n",
    "\n",
    "list = [35,24,3,16,45,8]\n",
    "y = len(list)\n",
    "sum = 0\n",
    "for i in range (y):\n",
    "    sum = sum + list[i]\n",
    "    print(\"sum of list= \",sum)"
   ]
  },
  {
   "cell_type": "code",
   "execution_count": 5,
   "metadata": {},
   "outputs": [
    {
     "name": "stdout",
     "output_type": "stream",
     "text": [
      "199\n"
     ]
    }
   ],
   "source": [
    "#Question_5\n",
    "\n",
    "list =[1,25,50,3,99,166,199]\n",
    "print(max(list))"
   ]
  },
  {
   "cell_type": "code",
   "execution_count": 6,
   "metadata": {},
   "outputs": [
    {
     "name": "stdout",
     "output_type": "stream",
     "text": [
      "1\n",
      "1\n",
      "2\n",
      "3\n"
     ]
    }
   ],
   "source": [
    "#Question_6\n",
    "\n",
    "list = [1, 1, 2, 3, 5, 8, 13, 21, 34, 55, 89]\n",
    "x = len(list)\n",
    "for i in range(x):\n",
    "    if list[i]<5:\n",
    "        print(list[i])"
   ]
  },
  {
   "cell_type": "code",
   "execution_count": null,
   "metadata": {},
   "outputs": [],
   "source": []
  }
 ],
 "metadata": {
  "kernelspec": {
   "display_name": "Python 3",
   "language": "python",
   "name": "python3"
  },
  "language_info": {
   "codemirror_mode": {
    "name": "ipython",
    "version": 3
   },
   "file_extension": ".py",
   "mimetype": "text/x-python",
   "name": "python",
   "nbconvert_exporter": "python",
   "pygments_lexer": "ipython3",
   "version": "3.7.4"
  }
 },
 "nbformat": 4,
 "nbformat_minor": 2
}
