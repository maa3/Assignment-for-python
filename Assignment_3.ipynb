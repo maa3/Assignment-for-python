{
 "cells": [
  {
   "cell_type": "code",
   "execution_count": 25,
   "metadata": {},
   "outputs": [
    {
     "name": "stdout",
     "output_type": "stream",
     "text": [
      "Enter Your First Number : 25\n",
      "Enter Your Opreator : **\n",
      "Enter Your Second Number : 2\n",
      "Power of  25  is  625\n"
     ]
    }
   ],
   "source": [
    "#Question_1\n",
    "\n",
    "num1 = int(input(\"Enter Your First Number : \"))\n",
    "opreator = input(\"Enter Your Opreator : \")\n",
    "num2 = int(input(\"Enter Your Second Number : \"))\n",
    "\n",
    "if opreator == '+':\n",
    "    result = num1 + num2\n",
    "    print(\"Addition of \",num1,\" & \",num2,\" is \", result)\n",
    "elif opreator == '-':\n",
    "    result = num1 - num2\n",
    "    print(\"Subtraction of \",num1,\" & \",num2,\" is \", result)\n",
    "elif opreator == '*':\n",
    "    result = num1 * num2\n",
    "    print(\"Multiplication of \",num1,\" & \",num2,\" is \", result)\n",
    "elif opreator == '/':\n",
    "    result = num1 / num2\n",
    "    print(\"Division of \",num1,\" & \",num2,\" is \", result)\n",
    "elif opreator == '**':\n",
    "    result = num1 ** num2\n",
    "    print(\"Power of \",num1, \" is \", result)"
   ]
  },
  {
   "cell_type": "code",
   "execution_count": 24,
   "metadata": {},
   "outputs": [
    {
     "name": "stdout",
     "output_type": "stream",
     "text": [
      "12 is a numeric Value in List\n",
      "20 is a numeric Value in List\n",
      "20.5 is a numeric Value in List\n"
     ]
    }
   ],
   "source": [
    "#Question_2\n",
    "\n",
    "\n",
    "arr = ['Arham','Me',12,20,True,20.5,'g','h']\n",
    "for i in arr:\n",
    "    if type(i) == int:\n",
    "        print(i,\"is a numeric Value in List\")\n",
    "    elif type(i) == float:\n",
    "        print(i,\"is a numeric Value in List\")"
   ]
  },
  {
   "cell_type": "code",
   "execution_count": 27,
   "metadata": {},
   "outputs": [
    {
     "name": "stdout",
     "output_type": "stream",
     "text": [
      "Enter Key Arham\n",
      "Enter Value 35\n",
      "{'Arham': '35'}\n"
     ]
    }
   ],
   "source": [
    "#Question_3\n",
    "\n",
    "\n",
    "dic = {}\n",
    "keyinput = input(\"Enter Key \")\n",
    "valueinput = input(\"Enter Value \")\n",
    "dic.update({keyinput:valueinput})\n",
    "\n",
    "print(dic)"
   ]
  },
  {
   "cell_type": "code",
   "execution_count": 22,
   "metadata": {},
   "outputs": [
    {
     "name": "stdout",
     "output_type": "stream",
     "text": [
      "Sum of all numeric items in a dictionary is  76\n"
     ]
    }
   ],
   "source": [
    "#Question_4\n",
    "\n",
    "\n",
    "dic = {\n",
    "    'num1' : 35,\n",
    "    'num2' : 5,\n",
    "    'string':'Arham',\n",
    "    'char':'b',\n",
    "    'num3' : 34,\n",
    "    'num4':2,\n",
    "}\n",
    "\n",
    "sum = 0\n",
    "\n",
    "for i in dic.values():\n",
    "    if type(i) == int:\n",
    "        sum += i\n",
    "\n",
    "print(\"Sum of all numeric items in a dictionary is \" , sum)"
   ]
  },
  {
   "cell_type": "code",
   "execution_count": 21,
   "metadata": {},
   "outputs": [
    {
     "name": "stdout",
     "output_type": "stream",
     "text": [
      "Repeted item in this list are [1, 31, 5, 3]\n"
     ]
    }
   ],
   "source": [
    "#Question_5\n",
    "\n",
    "\n",
    "arr = [1,2,31,45,5,3,31,1,5,66,3]\n",
    "list_range = len(arr)\n",
    "repeated = []\n",
    "for i in range (list_range):\n",
    "    a = i + 1\n",
    "    for b in range(a, list_range):\n",
    "        if arr[i] == arr[b] and arr[i] not in repeated:\n",
    "            repeated.append(arr[i])\n",
    "print(\"Repeted item in this list are\" , repeated)"
   ]
  },
  {
   "cell_type": "code",
   "execution_count": 26,
   "metadata": {},
   "outputs": [
    {
     "name": "stdout",
     "output_type": "stream",
     "text": [
      "Enter Key Name Check if exist or not 9\n",
      "Given Key dose not exist\n"
     ]
    }
   ],
   "source": [
    "dic = {\n",
    "    'num1' : 9,\n",
    "    'num2' : 33,\n",
    "    'string':'Arham',\n",
    "    'char':'b',\n",
    "    'num3' : 5,\n",
    "    'num4':1,\n",
    "}\n",
    "check_key = input(\"Enter Key Name Check if exist or not \")\n",
    "flag = False\n",
    "for i in dic.keys():\n",
    "    if i == check_key:\n",
    "        flag = True\n",
    "        break\n",
    "\n",
    "if flag:\n",
    "    print(\"Given Key exist\")\n",
    "else:\n",
    "    print(\"Given Key dose not exist\")"
   ]
  },
  {
   "cell_type": "code",
   "execution_count": null,
   "metadata": {},
   "outputs": [],
   "source": []
  }
 ],
 "metadata": {
  "kernelspec": {
   "display_name": "Python 3",
   "language": "python",
   "name": "python3"
  },
  "language_info": {
   "codemirror_mode": {
    "name": "ipython",
    "version": 3
   },
   "file_extension": ".py",
   "mimetype": "text/x-python",
   "name": "python",
   "nbconvert_exporter": "python",
   "pygments_lexer": "ipython3",
   "version": "3.7.4"
  }
 },
 "nbformat": 4,
 "nbformat_minor": 2
}
