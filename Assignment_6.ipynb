{
 "cells": [
  {
   "cell_type": "code",
   "execution_count": 19,
   "metadata": {},
   "outputs": [
    {
     "name": "stdout",
     "output_type": "stream",
     "text": [
      "The concept of OOP is focuses on creating reusable code. \n",
      "This concept is also known as DRY (Don't Repeat Yourself). \n",
      "there are four Pillars of OOP which are : \n",
      "Inheritance. Encapsulation , Polymorphism and Abstraction\n"
     ]
    }
   ],
   "source": [
    "#Question_1\n",
    "\n",
    "print('''The concept of OOP is focuses on creating reusable code. \n",
    "This concept is also known as DRY (Don't Repeat Yourself). \n",
    "there are four Pillars of OOP which are : \n",
    "Inheritance. Encapsulation , Polymorphism and Abstraction''')"
   ]
  },
  {
   "cell_type": "code",
   "execution_count": 5,
   "metadata": {},
   "outputs": [
    {
     "name": "stdout",
     "output_type": "stream",
     "text": [
      "\n",
      "      1. Modularity for easier troubleshooting\n",
      "      2. Reuse of code through inheritance\n",
      "      3. Flexibility through polymorphism\n",
      "      4. Effective problem solving\n"
     ]
    }
   ],
   "source": [
    "#Question_2\n",
    "\n",
    "print('''\n",
    "      1. Modularity for easier troubleshooting\n",
    "      2. Reuse of code through inheritance\n",
    "      3. Flexibility through polymorphism\n",
    "      4. Effective problem solving''')"
   ]
  },
  {
   "cell_type": "code",
   "execution_count": 15,
   "metadata": {},
   "outputs": [
    {
     "name": "stdout",
     "output_type": "stream",
     "text": [
      "Function:\n",
      "         A function is a piece of code that is called by name. It can be passed data to operate on (i.e. the parameters) and can optionally return data (the return value). All data that is passed to a function is explicitly passed\n",
      "Method:\n",
      "       A method is a piece of code that is called by a name that is associated with an object. In most respects it is identical to a function except for two key differences:\n",
      "1: A method is implicitly passed the object on which it was called.\n",
      "2: A method is able to operate on data that is contained within the class (remembering that an object is an instance of a class - the class is the definition, the object is an instance of that data).\n"
     ]
    }
   ],
   "source": [
    "#Question_3\n",
    "\n",
    "print(\"Function:\")\n",
    "print('''         A function is a piece of code that is called by name. It can be passed data to operate on (i.e. the parameters) and can optionally return data (the return value). All data that is passed to a function is explicitly passed''')\n",
    "print(\"Method:\")\n",
    "print('''       A method is a piece of code that is called by a name that is associated with an object. In most respects it is identical to a function except for two key differences:\n",
    "1: A method is implicitly passed the object on which it was called.\n",
    "2: A method is able to operate on data that is contained within the class (remembering that an object is an instance of a class - the class is the definition, the object is an instance of that data).''')"
   ]
  },
  {
   "cell_type": "code",
   "execution_count": 17,
   "metadata": {},
   "outputs": [
    {
     "name": "stdout",
     "output_type": "stream",
     "text": [
      "\n",
      "1. Class\n",
      "2. Object\n",
      "3. Attribute\n",
      "4. Behavior\n",
      "\n",
      "    \n",
      "    OOP me class ek blueprint ka kaam karti it's like defining data structure using \n",
      "    attributes which are basically variables. we define methods and functions in class\n",
      "    kuch behaviours k liye Example:\n",
      "                    #class its like a box which have many things inside it, which are  attributes methods functons etc ...\n",
      "                     class Soccerplayer:\n",
      "                     #object , class is a blueprint of this object , in this object we have all those things which i defined in class lines \n",
      "                         def __init__(self,playername,number,position)\n",
      "                         \n",
      "                         #attribute are variables , means address to memory loction of the value which these variables have\n",
      "                        self.name = playername\n",
      "                        self.number = number\n",
      "                        self.position = position\n",
      "                        \n",
      "                        \n",
      "                        #method For defining players who are better in dribbling then most players \n",
      "                        #methods can only be defined in the class scope ,its perform a task when we call it.\n",
      "                        # this method will print the player name which will be passed as argument when calling this method ,\n",
      "                        #printing is this methods behavior\n",
      "                        def specialists(self):\n",
      "                        print(self.name, \" is better in dribbble then other soccerPlayers\")\n",
      "                        \n",
      "                        #function is different then methods you can define funtion in and out of the class\n",
      "                        def run(name):\n",
      "                        print(name,\"runs fast\")\n",
      "                        \n",
      "                        \n",
      "                         \n"
     ]
    }
   ],
   "source": [
    "#Question_4\n",
    "\n",
    "print('''\n",
    "1. Class\n",
    "2. Object\n",
    "3. Attribute\n",
    "4. Behavior\n",
    "\n",
    "    \n",
    "    OOP me class ek blueprint ka kaam karti it's like defining data structure using \n",
    "    attributes which are basically variables. we define methods and functions in class\n",
    "    kuch behaviours k liye Example:\n",
    "                    #class its like a box which have many things inside it, which are  attributes methods functons etc ...\n",
    "                     class Soccerplayer:\n",
    "                     #object , class is a blueprint of this object , in this object we have all those things which i defined in class lines \n",
    "                         def __init__(self,playername,number,position)\n",
    "                         \n",
    "                         #attribute are variables , means address to memory loction of the value which these variables have\n",
    "                        self.name = playername\n",
    "                        self.number = number\n",
    "                        self.position = position\n",
    "                        \n",
    "                        \n",
    "                        #method For defining players who are better in dribbling then most players \n",
    "                        #methods can only be defined in the class scope ,its perform a task when we call it.\n",
    "                        # this method will print the player name which will be passed as argument when calling this method ,\n",
    "                        #printing is this methods behavior\n",
    "                        def specialists(self):\n",
    "                        print(self.name, \" is better in dribbble then other soccerPlayers\")\n",
    "                        \n",
    "                        #function is different then methods you can define funtion in and out of the class\n",
    "                        def run(name):\n",
    "                        print(name,\"runs fast\")\n",
    "                        \n",
    "                        \n",
    "                         ''')"
   ]
  },
  {
   "cell_type": "code",
   "execution_count": 18,
   "metadata": {},
   "outputs": [
    {
     "name": "stdout",
     "output_type": "stream",
     "text": [
      "this car name is :  Corolla\n",
      "Corolla\n",
      "Xyz-320\n"
     ]
    }
   ],
   "source": [
    "class Car:\n",
    "    def __init__(self,model,color,name,company,number):\n",
    "        self.model=model\n",
    "        self.color=color\n",
    "        self.name=name\n",
    "        self.company=company\n",
    "        self.number=number\n",
    "        \n",
    "    def print_name(self):\n",
    "        print(\"this car name is : \",self.name)\n",
    "            \n",
    "    def print_UPdatecompany(self):\n",
    "        self.company=\"Corolla\"\n",
    "        print(self.company)\n",
    "            \n",
    "    def print_number(self):\n",
    "        print(self.number)\n",
    "            \n",
    "car1=Car('2017','Gray','Corolla','Toyota','abc-0045')\n",
    "car2=Car('2019','white','VIGO','Toyota','Xyz-320')\n",
    "car3=Car('2015','Black','land Cruiser','Toyota','nbd-251')\n",
    "car4=Car('2016','Blue','Civic','Honda','dew-1')\n",
    "car5=Car('2015','silver','City','Honda','Ax-22')\n",
    "\n",
    "\n",
    "\n",
    "car1.print_name()\n",
    "car2.print_UPdatecompany()\n",
    "car2.print_number()"
   ]
  },
  {
   "cell_type": "code",
   "execution_count": null,
   "metadata": {},
   "outputs": [],
   "source": []
  }
 ],
 "metadata": {
  "kernelspec": {
   "display_name": "Python 3",
   "language": "python",
   "name": "python3"
  },
  "language_info": {
   "codemirror_mode": {
    "name": "ipython",
    "version": 3
   },
   "file_extension": ".py",
   "mimetype": "text/x-python",
   "name": "python",
   "nbconvert_exporter": "python",
   "pygments_lexer": "ipython3",
   "version": "3.7.4"
  }
 },
 "nbformat": 4,
 "nbformat_minor": 2
}
