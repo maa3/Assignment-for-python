{
 "cells": [
  {
   "cell_type": "code",
   "execution_count": 46,
   "metadata": {},
   "outputs": [
    {
     "name": "stdout",
     "output_type": "stream",
     "text": [
      "{'first_name': 'Muhammad Arham', 'last_name': 'Adeel', 'Age': '21', 'city': 'Sahiwal'}\n",
      "{'first_name': 'Muhammad Arham', 'last_name': 'Adeel', 'Age': '21', 'city': 'Sahiwal', 'qualification': 'Graduation'}\n",
      "{'first_name': 'Muhammad Arham', 'last_name': 'Adeel', 'Age': '21', 'city': 'Sahiwal', 'qualification': 'Graduation', 'qualifiation': 'High Qualification'}\n",
      "{'first_name': 'Muhammad Arham', 'last_name': 'Adeel', 'Age': '21', 'city': 'Sahiwal', 'qualifiation': 'High Qualification'}\n"
     ]
    }
   ],
   "source": [
    "#Questio_1\n",
    "\n",
    "my_information = {\n",
    "    \"first_name\" : \"Muhammad Arham\",\n",
    "    \"last_name\" : \"Adeel\",\n",
    "    \"Age\" : \"21\",\n",
    "    \"city\" : \"Sahiwal\"\n",
    "}\n",
    "\n",
    "print(my_information)\n",
    "\n",
    "my_information[\"qualification\"] = \"Graduation\"\n",
    "print(my_information)\n",
    "\n",
    "my_information[\"qualifiation\"] = \"High Qualification\"\n",
    "print(my_information)\n",
    "\n",
    "del my_information[\"qualification\"]\n",
    "print(my_information)"
   ]
  },
  {
   "cell_type": "code",
   "execution_count": 31,
   "metadata": {},
   "outputs": [
    {
     "name": "stdout",
     "output_type": "stream",
     "text": [
      "Name of cities is  Sahiwal\n",
      "Country Name is :  Pakistan\n",
      "Approximate population is :  450000\n",
      "Fact of the city is :  This city is famous about the biggest central jail in Asia!\n",
      "................................................................................................\n",
      "Name of cities is  New_York\n",
      "Country Name is :  USA\n",
      "Approximate population is :  156000\n",
      "Fact of the city is :  This is a beautiful place to spend holidays!\n",
      "................................................................................................\n",
      "Name of cities is  Mumbai\n",
      "Country Name is :  india\n",
      "Approximate population is :  55000000\n",
      "Fact of the city is :  most population in anyother country!\n",
      "................................................................................................\n"
     ]
    }
   ],
   "source": [
    "#Question_2\n",
    "\n",
    "cities ={\n",
    "    \"Sahiwal\" :{\n",
    "        \"country\" : \"Pakistan\",\n",
    "        \"population\" : \"450000\",\n",
    "        \"fact\" : \"This city is famous about the biggest central jail in Asia!\"\n",
    "    },\n",
    "    \"New_York\":{\n",
    "        \"country\" : \"USA\",\n",
    "        \"population\" : \"156000\",\n",
    "        \"fact\" : \"This is a beautiful place to spend holidays!\"\n",
    "    },\n",
    "    \"Mumbai\" :{\n",
    "        \"country\" : \"india\",\n",
    "        \"population\" : \"55000000\",\n",
    "        \"fact\" : \"most population in anyother country!\"\n",
    "    }\n",
    "}\n",
    "for i in cities.keys():\n",
    "    print(\"Name of cities is \", i)\n",
    "    print(\"Country Name is : \" , cities[i][\"country\"])\n",
    "    print(\"Approximate population is : \" , cities[i][\"population\"])\n",
    "    print(\"Fact of the city is : \" , cities[i][\"fact\"])\n",
    "    print(\"................................................................................................\")"
   ]
  },
  {
   "cell_type": "code",
   "execution_count": 33,
   "metadata": {},
   "outputs": [
    {
     "name": "stdout",
     "output_type": "stream",
     "text": [
      "Enter the number of Person : 1\n",
      "Enter The Age Of Person: 20\n",
      "Your Ticket price will be 15$\n",
      "Total Amount =  15  $ Enjoy Your Movie\n"
     ]
    }
   ],
   "source": [
    "#Question_3\n",
    "\n",
    "persons = int(input(\"Enter the number of Person : \"))\n",
    "\n",
    "total_price = 0\n",
    "\n",
    "for i in range(1,persons+1):\n",
    "    age = int(input(\"Enter The Age Of Person: \"))\n",
    "    if age <= 3:\n",
    "        print(\"Your Ticket is Free! Enjoy Your Movie\")\n",
    "    elif age <= 12:\n",
    "        print(\"Your Ticket price will be 10$\")\n",
    "        total_price +=10\n",
    "    else:\n",
    "        print(\"Your Ticket price will be 15$\")\n",
    "        total_price +=15\n",
    "\n",
    "print(\"Total Amount = \",total_price,\" $ Enjoy Your Movie\")"
   ]
  },
  {
   "cell_type": "code",
   "execution_count": 34,
   "metadata": {},
   "outputs": [
    {
     "name": "stdout",
     "output_type": "stream",
     "text": [
      "Enter The Bookk Title: Spactaculus\n",
      "One of my favorite books is  Spactaculus\n"
     ]
    }
   ],
   "source": [
    "#Question_4\n",
    "\n",
    "\n",
    "def favorite_book(book_name):\n",
    "    print(\"One of my favorite books is \",book_name)\n",
    "    \n",
    "title=input(\"Enter The Bookk Title: \")\n",
    "\n",
    "favorite_book(title)"
   ]
  },
  {
   "cell_type": "code",
   "execution_count": 41,
   "metadata": {},
   "outputs": [
    {
     "name": "stdout",
     "output_type": "stream",
     "text": [
      "Guess the number between 1 to 30 : 25\n",
      "Your guess is too high\n",
      "Guess the number between 1 to 30 : 10\n",
      "Your guess is too low\n",
      "Guess the number between 1 to 30 : 16\n",
      "Your guess is too high\n",
      "You Loose\n",
      "Correct Number is  11\n"
     ]
    }
   ],
   "source": [
    "#Question_5\n",
    "\n",
    "\n",
    "import random\n",
    "\n",
    "random_number = random.randrange(1,30)\n",
    "\n",
    "number = False\n",
    "\n",
    "for i in range(1,4):\n",
    "    guess = int(input(\"Guess the number between 1 to 30 : \"))\n",
    "    if guess == random_number:\n",
    "        number = True \n",
    "        break\n",
    "    elif guess < random_number:\n",
    "        print(\"Your guess is too low\")\n",
    "    else:\n",
    "        print(\"Your guess is too high\")\n",
    "        \n",
    "if number:\n",
    "    print(\"Congratulation you Win!!\")\n",
    "else:\n",
    "    print(\"You Loose\")\n",
    "    print(\"Correct Number is \", random_number)"
   ]
  },
  {
   "cell_type": "code",
   "execution_count": null,
   "metadata": {},
   "outputs": [],
   "source": []
  }
 ],
 "metadata": {
  "kernelspec": {
   "display_name": "Python 3",
   "language": "python",
   "name": "python3"
  },
  "language_info": {
   "codemirror_mode": {
    "name": "ipython",
    "version": 3
   },
   "file_extension": ".py",
   "mimetype": "text/x-python",
   "name": "python",
   "nbconvert_exporter": "python",
   "pygments_lexer": "ipython3",
   "version": "3.7.4"
  }
 },
 "nbformat": 4,
 "nbformat_minor": 2
}
